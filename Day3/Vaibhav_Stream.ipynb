{
 "cells": [
  {
   "cell_type": "code",
   "execution_count": 0,
   "metadata": {
    "application/vnd.databricks.v1+cell": {
     "cellMetadata": {
      "byteLimit": 2048000,
      "rowLimit": 10000
     },
     "inputWidgets": {},
     "nuid": "babc4295-5431-454e-a2d1-84797a5a7cbf",
     "showTitle": false,
     "tableResultSettingsMap": {},
     "title": ""
    }
   },
   "outputs": [],
   "source": [
    "#batch\n",
    "#df=spark.read.csv(\"abfss://raw@adlsdatamaster.dfs.core.windows.net/stream_in\")\n",
    "#df.write.saveAsTable(\"\")\n",
    "\n",
    "\n",
    "#streaming \n",
    "#df=spark.readStream.csv(\"abfss://raw@adlsdatamaster.dfs.core.windows.net/stream_in\")\n",
    "#df.writeStream.(\"\")"
   ]
  },
  {
   "cell_type": "code",
   "execution_count": 0,
   "metadata": {
    "application/vnd.databricks.v1+cell": {
     "cellMetadata": {
      "byteLimit": 2048000,
      "rowLimit": 10000
     },
     "inputWidgets": {},
     "nuid": "325f370b-f1cd-455f-af46-f45a65eb5732",
     "showTitle": false,
     "tableResultSettingsMap": {},
     "title": ""
    }
   },
   "outputs": [],
   "source": [
    "users_schema=\"Id string, Name string, Gender string,Salary string, Country string, Date string\""
   ]
  },
  {
   "cell_type": "code",
   "execution_count": 0,
   "metadata": {
    "application/vnd.databricks.v1+cell": {
     "cellMetadata": {
      "byteLimit": 2048000,
      "rowLimit": 10000
     },
     "collapsed": true,
     "inputWidgets": {},
     "nuid": "c9980c6f-4c2d-44a6-9024-c0225b176411",
     "showTitle": false,
     "tableResultSettingsMap": {},
     "title": ""
    }
   },
   "outputs": [],
   "source": [
    "(\n",
    "spark\n",
    " .readStream\n",
    " .csv(\"abfss://raw@adlsdatamaster.dfs.core.windows.net/stream_in\",header=True,schema=users_schema)\n",
    " .writeStream\n",
    " .option(\"checkpointLocation\",\"abfss://raw@adlsdatamaster.dfs.core.windows.net/checkpoint/stream_vaibhav\")\n",
    " .trigger(once=True)\n",
    " .toTable(\"jpm.vaibhav.stream\")\n",
    " )"
   ]
  },
  {
   "cell_type": "code",
   "execution_count": 0,
   "metadata": {
    "application/vnd.databricks.v1+cell": {
     "cellMetadata": {
      "byteLimit": 2048000,
      "implicitDf": true,
      "rowLimit": 10000
     },
     "inputWidgets": {},
     "nuid": "6ca4656b-933c-47ed-b2ce-31da410005f8",
     "showTitle": false,
     "tableResultSettingsMap": {},
     "title": ""
    }
   },
   "outputs": [],
   "source": [
    "%sql\n",
    "select * from jpm.vaibhav.stream"
   ]
  }
 ],
 "metadata": {
  "application/vnd.databricks.v1+notebook": {
   "computePreferences": null,
   "dashboards": [],
   "environmentMetadata": {
    "base_environment": "",
    "environment_version": "2"
   },
   "language": "python",
   "notebookMetadata": {
    "mostRecentlyExecutedCommandWithImplicitDF": {
     "commandId": 3448047224999933,
     "dataframes": [
      "_sqldf"
     ]
    },
    "pythonIndentUnit": 4
   },
   "notebookName": "Vaibhav_Stream",
   "widgets": {}
  },
  "language_info": {
   "name": "python"
  }
 },
 "nbformat": 4,
 "nbformat_minor": 0
}
